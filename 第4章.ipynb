{
 "cells": [
  {
   "cell_type": "code",
   "execution_count": 2,
   "metadata": {},
   "outputs": [
    {
     "data": {
      "image/png": "[encoded data removed]",
      "text/plain": [
       "<Figure size 432x288 with 1 Axes>"
      ]
     },
     "metadata": {
      "needs_background": "light"
     },
     "output_type": "display_data"
    }
   ],
   "source": [
    "#绘制步调函数图像\n",
    "import matplotlib.pyplot as plt\n",
    "x = [1,2,3,4]\n",
    "y = [0, 1, 2, 3]\n",
    "plt.step(x, y)\n",
    "plt.show()\n"
   ]
  },
  {
   "cell_type": "code",
   "execution_count": 2,
   "metadata": {},
   "outputs": [
    {
     "data": {
      "image/png": "[encoded data removed]",
      "text/plain": [
       "<Figure size 432x288 with 1 Axes>"
      ]
     },
     "metadata": {
      "needs_background": "light"
     },
     "output_type": "display_data"
    }
   ],
   "source": [
    "from matplotlib import pylab\n",
    "import pylab as plt\n",
    "import numpy as np\n",
    "#设置simoid函数计算流程\n",
    "def sigmoid(x):\n",
    "    return (1 / (1 + np.exp(-x)))\n",
    "mySamples = []\n",
    "mySigmoid = []\n",
    "#设置函数绘制区间\n",
    "x = plt.linspace(-10, 10, 10)\n",
    "y = plt.linspace(-10, 10, 100)\n",
    "#在给定区间内绘制sigmoid函数值点，形成函数曲线\n",
    "plt.plot(x, sigmoid(x), 'r', label = 'linspace(-10, 10, 10)')\n",
    "plt.plot(y, sigmoid(y), 'r', label='linspace(-10, 10, 1000)')\n",
    "plt.grid()\n",
    "plt.title('Sigmoid function')\n",
    "plt.suptitle('Sigmoid')\n",
    "plt.legend(loc='lower right')\n",
    "#给绘制曲线图像做标注\n",
    "plt.text(4, 0.8, r'$\\sigma(x)=\\frac{1}{1+e^(-x)}$', fontsize=15)\n",
    "plt.gca().xaxis.set_major_locator(plt.MultipleLocator(1))\n",
    "plt.gca().yaxis.set_major_locator(plt.MultipleLocator(0.1))\n",
    "plt.xlabel('X Axis')\n",
    "plt.ylabel('Y Axis')\n",
    "plt.show()\n"
   ]
  },
  {
   "cell_type": "code",
   "execution_count": 2,
   "metadata": {},
   "outputs": [
    {
     "name": "stdout",
     "output_type": "stream",
     "text": [
      "[1.05 0.6 ]\n"
     ]
    }
   ],
   "source": [
    "import numpy as np\n",
    "W = np.array([\n",
    "    [0.9, 0.3],\n",
    "    [0.2, 0.8]\n",
    "])\n",
    "I = np.array([1.0, 0.5])\n",
    "X = W.dot(I)\n",
    "print(X)"
   ]
  },
  {
   "cell_type": "code",
   "execution_count": 8,
   "metadata": {},
   "outputs": [],
   "source": [
    "import numpy as np\n",
    "import matplotlib.pyplot as plt\n",
    "%matplotlib qt"
   ]
  },
  {
   "cell_type": "code",
   "execution_count": 9,
   "metadata": {},
   "outputs": [],
   "source": [
    "function = lambda x: (x ** 3) - 3* (x**2) + 7  #设置要绘制的函数表达式\n",
    "x = np.linspace(-1, 3, 500) #在区间[1,3]内绘制函数图像\n",
    "plt.plot(x, function(x))\n",
    "plt.show()"
   ]
  },
  {
   "cell_type": "code",
   "execution_count": 10,
   "metadata": {},
   "outputs": [],
   "source": [
    "def  deriv(x):\n",
    "    '''\n",
    "    计算函数x^3-2x^2+7在任一点处的导函数，其导函数形式为3x^2-6x\n",
    "    '''\n",
    "    x_deriv = 3 * (x ** 2) - (6 * x)\n",
    "    return x_deriv"
   ]
  },
  {
   "cell_type": "code",
   "execution_count": 15,
   "metadata": {},
   "outputs": [],
   "source": [
    "def  tangent_line(x_0):\n",
    "    '''\n",
    "    在给定点x_0处绘制函数切线\n",
    "    '''\n",
    "    x = np.linspace(-1, 3, 500) \n",
    "    y = function(x)\n",
    "    y_0 = function(x_0)\n",
    "    y_tan = deriv(x_0) * (x - x_0) + y_0\n",
    "    plt.plot(x, y, 'r-')  #绘制函数图像\n",
    "    plt.plot(x, y_tan, 'b-')  #绘制给定点处的切线\n",
    "    plt.show()\n",
    "tangent_line(1.5) #绘制函数在点1.5处的切线"
   ]
  },
  {
   "cell_type": "code",
   "execution_count": 31,
   "metadata": {},
   "outputs": [],
   "source": [
    "import matplotlib.lines as mlines\n",
    "\n",
    "def  step(x_new, x_prev, precision, l_r):\n",
    "    '''\n",
    "    动态展现梯度下降法寻找函数最低点过程，x_new对应函数起始点，\n",
    "    x_prev表示函数点调整前的值，precision表示x点调整前和调整后的差异，\n",
    "    l_r表示x点每次调整幅度的大小\n",
    "    '''\n",
    "    x_list, y_list = [x_new], [function(x_new)]\n",
    "    while abs(x_new - x_prev) > precision:\n",
    "        x_prev = x_new  #记录调整前x点值\n",
    "        d_x = -deriv(x_prev) #沿着切线下降的方向调整x的值\n",
    "        x_new = x_prev + (l_r * d_x)  #获得调整后x的值\n",
    "        x_list.append(x_new)\n",
    "        y_list.append(function(x_new))\n",
    "    for i in range(len(x_list)):\n",
    "        plt.clf()\n",
    "        x = np.linspace(-1, 3, 500) \n",
    "        y = function(x)\n",
    "        plt.plot(x, function(x))  #先绘制函数曲线\n",
    "        plt.scatter(x_list[i], y_list[i], c=\"g\")\n",
    "        y_i = function(x_list[i])  \n",
    "        tan = deriv(x_list[i]) #当前点处切线斜率，对应切线方程为y = tan* (x-x_list[i]) + y_i\n",
    "        tanline_begin = tan*(-0.5) + y_i\n",
    "        tanline_end = tan*(0.5) + y_i\n",
    "        ax = plt.gca()\n",
    "        l = mlines.Line2D([x_list[i] - 0.5, x_list[i] + 0.5], [tanline_begin, tanline_end])\n",
    "        ax.add_line(l)\n",
    "        plt.pause(1)\n",
    "    plt.show()\n",
    "step(0.1, 0, 0.001, 0.05)\n",
    "        "
   ]
  }
 ],
 "metadata": {
  "kernelspec": {
   "display_name": "Python 3",
   "language": "python",
   "name": "python3"
  },
  "language_info": {
   "codemirror_mode": {
    "name": "ipython",
    "version": 3
   },
   "file_extension": ".py",
   "mimetype": "text/x-python",
   "name": "python",
   "nbconvert_exporter": "python",
   "pygments_lexer": "ipython3",
   "version": "3.7.2"
  }
 },
 "nbformat": 4,
 "nbformat_minor": 2
}
