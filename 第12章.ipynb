{
  "nbformat": 4,
  "nbformat_minor": 0,
  "metadata": {
    "colab": {
      "name": "第12章.ipynb",
      "version": "0.3.2",
      "provenance": [],
      "collapsed_sections": []
    },
    "kernelspec": {
      "name": "python3",
      "display_name": "Python 3"
    },
    "accelerator": "GPU"
  },
  "cells": [
    {
      "metadata": {
        "id": "22aAFZ6JhQ6E",
        "colab_type": "code",
        "outputId": "f61dd3d6-654d-4190-a06b-a6a0f393b039",
        "colab": {
          "base_uri": "https://localhost:8080/",
          "height": 122
        }
      },
      "cell_type": "code",
      "source": [
        "from google.colab import drive\n",
        "drive.mount('/content/gdrive')"
      ],
      "execution_count": 1,
      "outputs": [
        {
          "output_type": "stream",
          "text": [
            "Go to this URL in a browser: https://accounts.google.com/o/oauth2/auth?client_id=947318989803-6bn6qk8qdgf4n4g3pfee6491hc0brc4i.apps.googleusercontent.com&redirect_uri=urn%3Aietf%3Awg%3Aoauth%3A2.0%3Aoob&scope=email%20https%3A%2F%2Fwww.googleapis.com%2Fauth%2Fdocs.test%20https%3A%2F%2Fwww.googleapis.com%2Fauth%2Fdrive%20https%3A%2F%2Fwww.googleapis.com%2Fauth%2Fdrive.photos.readonly%20https%3A%2F%2Fwww.googleapis.com%2Fauth%2Fpeopleapi.readonly&response_type=code\n",
            "\n",
            "Enter your authorization code:\n",
            "··········\n",
            "Mounted at /content/gdrive\n"
          ],
          "name": "stdout"
        }
      ]
    },
    {
      "metadata": {
        "id": "1JZWFHSEh9Fj",
        "colab_type": "code",
        "colab": {}
      },
      "cell_type": "code",
      "source": [
        "!mkdir '/content/gdrive/My Drive/dataset'"
      ],
      "execution_count": 0,
      "outputs": []
    },
    {
      "metadata": {
        "id": "DQ8iPQtbm46M",
        "colab_type": "code",
        "colab": {}
      },
      "cell_type": "code",
      "source": [
        "path = '/content/gdrive/My Drive/dataset/text8'\n",
        "with  open(path) as ft_:\n",
        "  full_text = ft_.read()\n",
        "  \n"
      ],
      "execution_count": 0,
      "outputs": []
    },
    {
      "metadata": {
        "id": "UbP6W1pJnLEm",
        "colab_type": "code",
        "colab": {}
      },
      "cell_type": "code",
      "source": [
        "def  text_processing(ft8_text):\n",
        "  '''\n",
        "  替换掉标点符号\n",
        "  '''\n",
        "  ft8_text = ft8_text.lower()\n",
        "  ft8_text = ft8_text.replace('.', '<period>')\n",
        "  ft8_text = ft8_text.replace(',', '<comma>')\n",
        "  ft8_text = ft8_text.replace('\"', '<quotation>')\n",
        "  ft8_text = ft8_text.replace(';', '<semicolon>')\n",
        "  ft8_text = ft8_text.replace('!', '<exclamation>')\n",
        "  ft8_text = ft8_text.replace('?', '<question>')\n",
        "  ft8_text = ft8_text.replace('(', '<paren_l>')\n",
        "  ft8_text = ft8_text.replace(')', '<paren_r>')\n",
        "  ft8_text = ft8_text.replace('--', '<hyphen>')\n",
        "  ft8_text = ft8_text.replace(':', '<colon>')\n",
        "  ft8_text_tokens = ft8_text.split()\n",
        "  return ft8_text_tokens\n",
        "\n",
        "ft_tokens = text_processing(full_text)"
      ],
      "execution_count": 0,
      "outputs": []
    },
    {
      "metadata": {
        "id": "MASTuqDCoeqJ",
        "colab_type": "code",
        "outputId": "6e29fbe1-ac45-4169-ea87-620b64a1d6cd",
        "colab": {
          "base_uri": "https://localhost:8080/",
          "height": 34
        }
      },
      "cell_type": "code",
      "source": [
        "import random\n",
        "import collections\n",
        "import math\n",
        "import time\n",
        "import re\n",
        "import numpy as np\n",
        "\n",
        "word_cnt = collections.Counter(ft_tokens)\n",
        "shortlisted_words = [w for w in ft_tokens if word_cnt[w] > 7]\n",
        "print(shortlisted_words[:15])"
      ],
      "execution_count": 0,
      "outputs": [
        {
          "output_type": "stream",
          "text": [
            "['anarchism', 'originated', 'as', 'a', 'term', 'of', 'abuse', 'first', 'used', 'against', 'early', 'working', 'class', 'radicals', 'including']\n"
          ],
          "name": "stdout"
        }
      ]
    },
    {
      "metadata": {
        "id": "ZKITJSnDqILg",
        "colab_type": "code",
        "colab": {}
      },
      "cell_type": "code",
      "source": [
        "def  dict_creation(shortlisted_words):\n",
        "  '''\n",
        "  建立起单词和它出现频率之间的对应关系\n",
        "  '''\n",
        "  counts = collections.Counter(shortlisted_words)\n",
        "  '''\n",
        "  #将单词按出现次数由高到低排序，例如\"the\"出现最多就排第一位，它的序号为0，“an”次数第二多，序号\n",
        "  对应为1,单词序号很重要，后面会用来建立单词的one-hot-vector，也就是把单词序号下标在向量中设置为1\n",
        "  '''\n",
        "  vocabulary = sorted(counts, key=counts.get, reverse=True)\n",
        "  #将单词序号映射到单词\n",
        "  rev_dictionary_ = {ii:word for ii, word in enumerate(vocabulary)}\n",
        "  #将单词映射到序号,\n",
        "  dictionary_ = {word: ii for ii, word in rev_dictionary_.items()}\n",
        "  return dictionary_, rev_dictionary_\n",
        "\n",
        "dictionary_, rev_dictionary_ = dict_creation(shortlisted_words)    \n",
        "words_cnt = [dictionary_[word] for word in shortlisted_words]\n"
      ],
      "execution_count": 0,
      "outputs": []
    },
    {
      "metadata": {
        "id": "zVUX1ykaJucR",
        "colab_type": "code",
        "colab": {}
      },
      "cell_type": "code",
      "source": [
        "'''\n",
        "根据负采样公式，把频率过低的单词过滤掉\n",
        "'''\n",
        "thresh = 0.00005\n",
        "'''\n",
        "建立单词序号与它出现次数的映射关系\n",
        "'''\n",
        "word_counts = collections.Counter(words_cnt)\n",
        "total_count = len(words_cnt)\n",
        "#建立单词与出现频率的对应关系\n",
        "freqs = {word: count / total_count for word, count in word_counts.items()}\n",
        "#根据负采样公式过滤单词\n",
        "p_drop = { word: 1 - np.sqrt(thresh / freqs[word]) for word in word_counts}\n",
        "train_words = [word for word in words_cnt if p_drop[word] < random.random()]"
      ],
      "execution_count": 0,
      "outputs": []
    },
    {
      "metadata": {
        "id": "O8Bo70fHgr0-",
        "colab_type": "code",
        "colab": {}
      },
      "cell_type": "code",
      "source": [
        "def  skipG_target_set_generation(batch_, batch_index, word_window):\n",
        "  '''\n",
        "  根据表12-1的方式构造网络训练数据\n",
        "  '''\n",
        "  random_num = np.random.randint(1, word_window + 1)\n",
        "  #选择中心词左边窗口范围内的单词\n",
        "  words_start = batch_index - random_num if (batch_index - random_num) > 0 else 0\n",
        "  #选择中心词右边窗口范围内单词\n",
        "  words_stop = batch_index + random_num\n",
        "  window_target = set(batch_[words_start:batch_index] + batch_[batch_index+1 :\n",
        "                                                               words_stop+1])\n",
        "  return list(window_target)\n",
        "\n",
        "def  skipG_batch_creation(short_words, batch_length, word_window):\n",
        "  #将训练单词分批\n",
        "  batch_cnt = len(short_words) // batch_length\n",
        "  short_words = short_words[:batch_cnt * batch_length]\n",
        "  \n",
        "  for word_index in range(0, len(short_words), batch_length):\n",
        "    #input_words是中心词\n",
        "    #label_words 是中心词左右两边窗口范围内的单词\n",
        "    input_words, label_words = [], []\n",
        "    word_batch = short_words[word_index: word_index + batch_length]\n",
        "    for index_ in range(len(word_batch)):\n",
        "      batch_input = word_batch[index_]\n",
        "      batch_label = skipG_target_set_generation(word_batch, index_, word_window)\n",
        "      label_words.extend(batch_label)\n",
        "      input_words.extend([batch_input] * len(batch_label))\n",
        "      '''\n",
        "      给定句子 ’the cat jump over the dog',窗口范围2，如果中心词是jump那么输出格式为\n",
        "      input_words = [jump ,jump ,jump ,jump]\n",
        "      label_words = [the, cat, over, the]\n",
        "      '''\n",
        "    yield input_words, label_words"
      ],
      "execution_count": 0,
      "outputs": []
    },
    {
      "metadata": {
        "id": "V5bCFWOQk7w9",
        "colab_type": "code",
        "outputId": "a2e135a8-9ff5-4549-cd68-5ff51fbf3745",
        "colab": {
          "base_uri": "https://localhost:8080/",
          "height": 88
        }
      },
      "cell_type": "code",
      "source": [
        "import tensorflow as tf\n",
        "\n",
        "tf_graph = tf.Graph()\n",
        "with tf_graph.as_default():\n",
        "  input_ = tf.placeholder(tf.int32, [None], name='input_')\n",
        "  label_ = tf.placeholder(tf.int32, [None, None], name='label_')\n",
        "  #构建中间二维向量\n",
        "  word_embed = tf.Variable(tf.random_uniform((len(rev_dictionary_), 300), -1, 1))\n",
        "  #计算one-hot-vector与中间向量乘机,其实就是把二维向量指定行选取出来\n",
        "  embedding = tf.nn.embedding_lookup(word_embed, input_)\n",
        "  \n",
        "  vocabulary_size = len(rev_dictionary_)\n",
        "  \n",
        "  #添加中间层和输出层之间的链路参数,并使用正太分布对参数进行初始化\n",
        "  sf_weights = tf.Variable(tf.truncated_normal((vocabulary_size, 300), stddev=0.1))\n",
        "  sf_bias = tf.Variable(tf.zeros(vocabulary_size))\n",
        "  '''\n",
        "  使用梯度下降法训练参数，我们不训练所有参数而是随机选取第三层100个节点对应的链路参数进行修正,\n",
        "  由于每个节点对应300个链路参数，因此总共修正的有(100+1)*300个参数\n",
        "  '''\n",
        "  loss_fn = tf.nn.sampled_softmax_loss(weights=sf_weights,\n",
        "                                      biases=sf_bias,\n",
        "                                      labels=label_,\n",
        "                                      inputs=embedding,\n",
        "                                      num_sampled=100,\n",
        "                                      num_classes=vocabulary_size,\n",
        "                                      )\n",
        "  cost_fn = tf.reduce_mean(loss_fn)\n",
        "  optim = tf.train.AdamOptimizer().minimize(cost_fn)"
      ],
      "execution_count": 0,
      "outputs": [
        {
          "output_type": "stream",
          "text": [
            "WARNING:tensorflow:From /usr/local/lib/python3.6/dist-packages/tensorflow/python/ops/nn_impl.py:1124: sparse_to_dense (from tensorflow.python.ops.sparse_ops) is deprecated and will be removed in a future version.\n",
            "Instructions for updating:\n",
            "Create a `tf.sparse.SparseTensor` and use `tf.sparse.to_dense` instead.\n"
          ],
          "name": "stdout"
        }
      ]
    },
    {
      "metadata": {
        "id": "zfHyyaUM01gS",
        "colab_type": "code",
        "outputId": "87d30a54-35b3-48c9-ae9f-1584f068c44b",
        "colab": {
          "base_uri": "https://localhost:8080/",
          "height": 88
        }
      },
      "cell_type": "code",
      "source": [
        "'''\n",
        "使用余弦公式计算两个单词向量的距离，通过距离的大小展示单词含义是否相近\n",
        "'''\n",
        "with tf_graph.as_default():\n",
        "  validation_cnt = 16\n",
        "  validation_dict = 100\n",
        "  \n",
        "  #从编号为0到100的单词中随机选出8个\n",
        "  validation_words = np.array(random.sample(range(validation_dict), validation_cnt//2))\n",
        "  #再从编号为1000到1100的单词随机选出8个\n",
        "  validation_words = np.append(validation_words, random.sample(range(1000,\n",
        "                                                                    1000+validation_cnt),\n",
        "                                                              validation_cnt//2))\n",
        "  validation_data = tf.constant(validation_words, dtype=tf.int32)\n",
        "  #先对单词向量做归一化处理\n",
        "  normalization_embed = word_embed / (tf.sqrt(tf.reduce_sum(tf.square(word_embed), \n",
        "                                                            1, keep_dims = True)))\n",
        "  #将单词对应的向量挑选出来\n",
        "  validation_embed = tf.nn.embedding_lookup(normalization_embed, validation_data)\n",
        "  #计算两个向量内积，所得结果就是向量间距离\n",
        "  word_similarity = tf.matmul(validation_embed, tf.transpose(normalization_embed))"
      ],
      "execution_count": 0,
      "outputs": [
        {
          "output_type": "stream",
          "text": [
            "WARNING:tensorflow:From <ipython-input-14-4e01e97c5a30>:17: calling reduce_sum (from tensorflow.python.ops.math_ops) with keep_dims is deprecated and will be removed in a future version.\n",
            "Instructions for updating:\n",
            "keep_dims is deprecated, use keepdims instead\n"
          ],
          "name": "stdout"
        }
      ]
    },
    {
      "metadata": {
        "id": "BW00V4kp-LIo",
        "colab_type": "code",
        "outputId": "25367e41-8697-49dd-ea39-6b6f21b57241",
        "colab": {
          "base_uri": "https://localhost:8080/",
          "height": 1921
        }
      },
      "cell_type": "code",
      "source": [
        "#循环训练10次，由于训练过程非常耗时，如果没有GPU，在训练时可以尝试把该值变小\n",
        "epochs = 2\n",
        "batch_length = 1000\n",
        "word_window = 10\n",
        "\n",
        "with tf_graph.as_default():\n",
        "  saver = tf.train.Saver()\n",
        "  \n",
        "with tf.Session(graph = tf_graph) as sess:\n",
        "  iteration = 1\n",
        "  loss = 0\n",
        "  sess.run(tf.global_variables_initializer())\n",
        "  \n",
        "  for e in range(1, epochs + 1):\n",
        "    batches = skipG_batch_creation(train_words, batch_length, word_window)\n",
        "    start = time.time()\n",
        "    \n",
        "    \n",
        "    for x, y in batches:\n",
        "      train_loss, _ = sess.run([cost_fn, optim], feed_dict={input_: x,\n",
        "                                                           label_: np.array(y)[:, None]})\n",
        "      loss += train_loss\n",
        "      if iteration % 100 == 0:\n",
        "        end = time.time()\n",
        "        print(\"Epoch {}/{}\".format(e, epochs), \", Iteration: {}\".format(iteration),\n",
        "             \", Avg Training loss: {:.4f}\".format(loss/100),\n",
        "             \", Procession: {:.4f} sec/batch\".format((end - start) / 100))\n",
        "        loss = 0\n",
        "        start = time.time()\n",
        "      #迭代训练2000次后计算一下单词相似度\n",
        "      if iteration % 2000 == 0:\n",
        "        similarity_ = word_similarity.eval()\n",
        "        for i in range(validation_cnt):\n",
        "          validated_words = rev_dictionary_[validation_words[i]]\n",
        "          #根据计算距离，找出与当前单词距离最短的8个词\n",
        "          top_k = 8\n",
        "          nearest = (-similarity_[i, :]).argsort()[1: top_k+1]\n",
        "          log = \"Nearest to %s:\" % validated_words\n",
        "          for k in range(top_k):\n",
        "            close_word =rev_dictionary_[nearest[k]]\n",
        "            log = '%s %s,' % (log, close_word)\n",
        "          print(log)\n",
        "          \n",
        "      iteration += 1\n",
        "      \n",
        "  path = '/content/gdrive/My Drive/skipGram_text8.ckpt'\n",
        "  save_path = saver.save(sess, path)\n",
        "  embed_mat = sess.run(normalization_embed)"
      ],
      "execution_count": 0,
      "outputs": [
        {
          "output_type": "stream",
          "text": [
            "Epoch 1/2 , Iteration: 100 , Avg Training loss: 6.1691 , Procession: 0.0379 sec/batch\n",
            "Epoch 1/2 , Iteration: 200 , Avg Training loss: 6.1191 , Procession: 0.0350 sec/batch\n",
            "Epoch 1/2 , Iteration: 300 , Avg Training loss: 6.0809 , Procession: 0.0348 sec/batch\n",
            "Epoch 1/2 , Iteration: 400 , Avg Training loss: 6.0179 , Procession: 0.0350 sec/batch\n",
            "Epoch 1/2 , Iteration: 500 , Avg Training loss: 5.9354 , Procession: 0.0350 sec/batch\n",
            "Epoch 1/2 , Iteration: 600 , Avg Training loss: 5.9745 , Procession: 0.0350 sec/batch\n",
            "Epoch 1/2 , Iteration: 700 , Avg Training loss: 5.8677 , Procession: 0.0348 sec/batch\n",
            "Epoch 1/2 , Iteration: 800 , Avg Training loss: 5.7453 , Procession: 0.0352 sec/batch\n",
            "Epoch 1/2 , Iteration: 900 , Avg Training loss: 5.6843 , Procession: 0.0349 sec/batch\n",
            "Epoch 1/2 , Iteration: 1000 , Avg Training loss: 5.5634 , Procession: 0.0346 sec/batch\n",
            "Epoch 1/2 , Iteration: 1100 , Avg Training loss: 5.4524 , Procession: 0.0348 sec/batch\n",
            "Epoch 1/2 , Iteration: 1200 , Avg Training loss: 5.4067 , Procession: 0.0346 sec/batch\n",
            "Epoch 1/2 , Iteration: 1300 , Avg Training loss: 5.2693 , Procession: 0.0348 sec/batch\n",
            "Epoch 1/2 , Iteration: 1400 , Avg Training loss: 5.1461 , Procession: 0.0346 sec/batch\n",
            "Epoch 1/2 , Iteration: 1500 , Avg Training loss: 5.1431 , Procession: 0.0348 sec/batch\n",
            "Epoch 1/2 , Iteration: 1600 , Avg Training loss: 5.1026 , Procession: 0.0352 sec/batch\n",
            "Epoch 1/2 , Iteration: 1700 , Avg Training loss: 5.0610 , Procession: 0.0345 sec/batch\n",
            "Epoch 1/2 , Iteration: 1800 , Avg Training loss: 4.9353 , Procession: 0.0346 sec/batch\n",
            "Epoch 1/2 , Iteration: 1900 , Avg Training loss: 4.9366 , Procession: 0.0346 sec/batch\n",
            "Epoch 1/2 , Iteration: 2000 , Avg Training loss: 4.9625 , Procession: 0.0346 sec/batch\n",
            "Nearest to three: mayan, server, advertisements, behave, officials, morbid, per, cm,\n",
            "Nearest to called: administrated, walt, received, mourns, pauses, guy, guilty, cores,\n",
            "Nearest to at: perplexed, resurrection, carriacou, rolled, investor, bolsheviks, prospect, query,\n",
            "Nearest to some: heroics, pronouncing, inside, realised, ideological, craze, gerda, temp,\n",
            "Nearest to their: sturluson, powerplant, china, dipole, reproductive, game, interception, scrutiny,\n",
            "Nearest to seven: external, chiang, theremin, judgement, graz, revenues, fianc, phrase,\n",
            "Nearest to no: gradual, pda, garibaldi, often, treated, exploit, syriac, isotopes,\n",
            "Nearest to will: tract, solvent, tatar, inform, actaeon, baffles, partnership, ratings,\n",
            "Nearest to animals: disease, santer, plummeted, debated, nicaraguan, enthusiastically, theories, phosphates,\n",
            "Nearest to universe: sic, occupations, perkin, grey, quatrain, healers, wherein, different,\n",
            "Nearest to heavy: unto, link, mendeleev, cambridge, lloyd, connors, diabelli, ketones,\n",
            "Nearest to bbc: meaningless, study, instructions, motel, childhood, unified, penalty, context,\n",
            "Nearest to numerous: format, consolidation, role, iers, macedonia, mpla, wastes, reclassified,\n",
            "Nearest to award: bastion, traded, thumbnail, produce, coming, fuerza, labeling, wark,\n",
            "Nearest to behind: unwavering, garnering, trivial, brand, ty, extreme, update, ruinous,\n",
            "Nearest to assembly: arg, elected, farther, sustain, materials, unseen, indicated, oceania,\n",
            "Epoch 1/2 , Iteration: 2100 , Avg Training loss: 4.9384 , Procession: 0.0357 sec/batch\n",
            "Epoch 1/2 , Iteration: 2200 , Avg Training loss: 4.8923 , Procession: 0.0345 sec/batch\n",
            "Epoch 1/2 , Iteration: 2300 , Avg Training loss: 4.8975 , Procession: 0.0345 sec/batch\n",
            "Epoch 1/2 , Iteration: 2400 , Avg Training loss: 4.8637 , Procession: 0.0348 sec/batch\n",
            "Epoch 1/2 , Iteration: 2500 , Avg Training loss: 4.8449 , Procession: 0.0347 sec/batch\n",
            "Epoch 1/2 , Iteration: 2600 , Avg Training loss: 4.8747 , Procession: 0.0349 sec/batch\n",
            "Epoch 1/2 , Iteration: 2700 , Avg Training loss: 4.8595 , Procession: 0.0351 sec/batch\n",
            "Epoch 1/2 , Iteration: 2800 , Avg Training loss: 4.8179 , Procession: 0.0353 sec/batch\n",
            "Epoch 1/2 , Iteration: 2900 , Avg Training loss: 4.7895 , Procession: 0.0346 sec/batch\n",
            "Epoch 1/2 , Iteration: 3000 , Avg Training loss: 4.8023 , Procession: 0.0354 sec/batch\n",
            "Epoch 1/2 , Iteration: 3100 , Avg Training loss: 4.7744 , Procession: 0.0353 sec/batch\n",
            "Epoch 1/2 , Iteration: 3200 , Avg Training loss: 4.7579 , Procession: 0.0352 sec/batch\n",
            "Epoch 1/2 , Iteration: 3300 , Avg Training loss: 4.7358 , Procession: 0.0345 sec/batch\n",
            "Epoch 1/2 , Iteration: 3400 , Avg Training loss: 4.7311 , Procession: 0.0349 sec/batch\n",
            "Epoch 1/2 , Iteration: 3500 , Avg Training loss: 4.7138 , Procession: 0.0346 sec/batch\n",
            "Epoch 1/2 , Iteration: 3600 , Avg Training loss: 4.6957 , Procession: 0.0347 sec/batch\n",
            "Epoch 1/2 , Iteration: 3700 , Avg Training loss: 4.7195 , Procession: 0.0347 sec/batch\n",
            "Epoch 1/2 , Iteration: 3800 , Avg Training loss: 4.7006 , Procession: 0.0353 sec/batch\n",
            "Epoch 1/2 , Iteration: 3900 , Avg Training loss: 4.6342 , Procession: 0.0349 sec/batch\n",
            "Epoch 1/2 , Iteration: 4000 , Avg Training loss: 4.6593 , Procession: 0.0354 sec/batch\n",
            "Nearest to three: mayan, six, per, pernoud, cm, billie, morbid, alumni,\n",
            "Nearest to called: administrated, pauses, walt, a, received, cores, disinterested, mourns,\n",
            "Nearest to at: perplexed, carriacou, resurrection, rolled, bolsheviks, odyssey, althing, investor,\n",
            "Nearest to some: heroics, pronouncing, ideological, gerda, craze, protagonists, risen, realised,\n",
            "Nearest to their: sturluson, reproductive, dipole, mastering, socialistic, interception, powerplant, china,\n",
            "Nearest to seven: chiang, external, theremin, graz, temptations, jimmy, fianc, rogers,\n",
            "Nearest to no: gradual, pda, hermeneutic, endpoints, syriac, treated, prescribing, crumbling,\n",
            "Nearest to will: tract, solvent, baffles, nanny, actaeon, nucleotides, belial, inform,\n",
            "Nearest to animals: disease, santer, plummeted, alexa, phosphates, enthusiastically, theories, debated,\n",
            "Nearest to universe: quatrain, occupations, healers, sic, different, perkin, calculate, ree,\n",
            "Nearest to heavy: unto, bette, ketones, mendeleev, link, horribly, bottoms, gallia,\n",
            "Nearest to bbc: motel, meaningless, vigo, rimmed, penalty, instructions, caffeine, transparency,\n",
            "Nearest to numerous: role, format, consolidation, abrahamic, iers, mpla, wastes, glycerol,\n",
            "Nearest to award: bastion, thumbnail, traded, seuss, labeling, wark, fuerza, ferrand,\n",
            "Nearest to behind: ruinous, garnering, unwavering, royale, instructing, cookies, extreme, brand,\n",
            "Nearest to assembly: elected, arg, oceania, customization, unseen, holocaust, farther, relaxes,\n",
            "Epoch 1/2 , Iteration: 4100 , Avg Training loss: 4.6019 , Procession: 0.0362 sec/batch\n",
            "Epoch 1/2 , Iteration: 4200 , Avg Training loss: 4.6754 , Procession: 0.0346 sec/batch\n",
            "Epoch 1/2 , Iteration: 4300 , Avg Training loss: 4.6845 , Procession: 0.0347 sec/batch\n",
            "Epoch 1/2 , Iteration: 4400 , Avg Training loss: 4.6754 , Procession: 0.0346 sec/batch\n",
            "Epoch 1/2 , Iteration: 4500 , Avg Training loss: 4.6244 , Procession: 0.0346 sec/batch\n",
            "Epoch 1/2 , Iteration: 4600 , Avg Training loss: 4.6179 , Procession: 0.0349 sec/batch\n",
            "Epoch 1/2 , Iteration: 4700 , Avg Training loss: 4.6461 , Procession: 0.0349 sec/batch\n",
            "Epoch 1/2 , Iteration: 4800 , Avg Training loss: 4.6433 , Procession: 0.0351 sec/batch\n",
            "Epoch 1/2 , Iteration: 4900 , Avg Training loss: 4.6314 , Procession: 0.0347 sec/batch\n",
            "Epoch 1/2 , Iteration: 5000 , Avg Training loss: 4.5678 , Procession: 0.0351 sec/batch\n",
            "Epoch 1/2 , Iteration: 5100 , Avg Training loss: 4.5291 , Procession: 0.0355 sec/batch\n",
            "Epoch 1/2 , Iteration: 5200 , Avg Training loss: 4.5502 , Procession: 0.0348 sec/batch\n",
            "Epoch 1/2 , Iteration: 5300 , Avg Training loss: 4.5149 , Procession: 0.0350 sec/batch\n",
            "Epoch 1/2 , Iteration: 5400 , Avg Training loss: 4.5698 , Procession: 0.0350 sec/batch\n",
            "Epoch 1/2 , Iteration: 5500 , Avg Training loss: 4.5050 , Procession: 0.0348 sec/batch\n",
            "Epoch 1/2 , Iteration: 5600 , Avg Training loss: 4.5032 , Procession: 0.0355 sec/batch\n",
            "Epoch 1/2 , Iteration: 5700 , Avg Training loss: 4.5667 , Procession: 0.0357 sec/batch\n",
            "Epoch 1/2 , Iteration: 5800 , Avg Training loss: 4.5596 , Procession: 0.0348 sec/batch\n",
            "Epoch 1/2 , Iteration: 5900 , Avg Training loss: 4.5918 , Procession: 0.0354 sec/batch\n",
            "Epoch 1/2 , Iteration: 6000 , Avg Training loss: 4.5663 , Procession: 0.0351 sec/batch\n",
            "Nearest to three: approximately, per, six, mayan, pernoud, cm, lineman, warren,\n",
            "Nearest to called: administrated, disinterested, a, reptile, mourns, ambushed, pauses, received,\n",
            "Nearest to at: althing, perplexed, carriacou, bolsheviks, odyssey, tripled, moved, tanistry,\n",
            "Nearest to some: heroics, pronouncing, gerda, risen, ideological, incontinence, koizumi, protagonists,\n",
            "Nearest to their: socialistic, reproductive, sturluson, china, hampering, rorty, dipole, streamlining,\n",
            "Nearest to seven: chiang, external, theremin, douro, rogers, graz, commemoration, evidences,\n",
            "Nearest to no: pda, hermeneutic, syriac, gradual, treated, endpoints, prescribing, crumbling,\n",
            "Nearest to will: tract, solvent, nanny, actaeon, nucleotides, belial, aphelion, baffles,\n",
            "Nearest to animals: disease, plummeted, phosphates, santer, alexa, alem, enthusiastically, tend,\n",
            "Nearest to universe: healers, quatrain, occupations, different, wherein, probe, contemporaries, sic,\n",
            "Nearest to heavy: unto, ketones, bette, mendeleev, horribly, bottoms, connors, link,\n",
            "Nearest to bbc: motel, vigo, meaningless, rimmed, mutt, lithuanians, october, shortwave,\n",
            "Nearest to numerous: role, abrahamic, iers, yam, mpla, glycerol, icc, consolidation,\n",
            "Nearest to award: thumbnail, bastion, seuss, wark, amstel, nomination, traded, fuerza,\n",
            "Nearest to behind: unwavering, garnering, ruinous, royale, iast, brand, extreme, instructing,\n",
            "Nearest to assembly: elected, oceania, vested, arg, holocaust, szl, pairing, slipknot,\n",
            "Epoch 1/2 , Iteration: 6100 , Avg Training loss: 4.4416 , Procession: 0.0368 sec/batch\n",
            "Epoch 1/2 , Iteration: 6200 , Avg Training loss: 4.5200 , Procession: 0.0350 sec/batch\n",
            "Epoch 1/2 , Iteration: 6300 , Avg Training loss: 4.5230 , Procession: 0.0347 sec/batch\n",
            "Epoch 1/2 , Iteration: 6400 , Avg Training loss: 4.5401 , Procession: 0.0347 sec/batch\n"
          ],
          "name": "stdout"
        }
      ]
    },
    {
      "metadata": {
        "id": "o924OHziJwyu",
        "colab_type": "code",
        "outputId": "346d8f96-e1c3-48fa-fe28-7fe57b80ef73",
        "colab": {
          "base_uri": "https://localhost:8080/",
          "height": 609
        }
      },
      "cell_type": "code",
      "source": [
        "import matplotlib.pyplot as plt\n",
        "from sklearn.manifold import TSNE\n",
        "\n",
        "with tf.Session(graph=tf_graph) as sess:\n",
        "  path = '/content/gdrive/My Drive/skipGram_text8_epoch10.ckpt'\n",
        "  saver = tf.train.import_meta_graph(path + '.meta')\n",
        "  #将训练后存储成文件的网络参数重新加载\n",
        "  saver.restore(sess, path)\n",
        "  sess.run(tf.global_variables_initializer())\n",
        "  embed_mat = sess.run(word_embed)\n",
        "  #选取250个单词向量在二维平面上展示\n",
        "  word_graph = 250\n",
        "  tsne = TSNE()\n",
        "  word_embedding = tsne.fit_transform(embed_mat[:word_graph,:])\n",
        "  fig, ax = plt.subplots(figsize=(10, 10))\n",
        "  for idx in range(word_graph):\n",
        "    plt.scatter(*word_embedding[idx, :], color='steelblue')\n",
        "    plt.annotate(rev_dictionary_[idx], (word_embedding[idx, 0], word_embedding[idx, 1]), alpha=0.6)\n"
      ],
      "execution_count": 0,
      "outputs": [
        {
          "output_type": "stream",
          "text": [
            "INFO:tensorflow:Restoring parameters from /content/gdrive/My Drive/skipGram_text8_epoch10.ckpt\n"
          ],
          "name": "stdout"
        },
        {
          "output_type": "display_data",
          "data": {
            "image/png": "[encoded data removed]",
            "text/plain": [
              "<Figure size 720x720 with 1 Axes>"
            ]
          },
          "metadata": {
            "tags": []
          }
        }
      ]
    },
    {
      "metadata": {
        "id": "7OfykHvyJ3gK",
        "colab_type": "code",
        "outputId": "2252807e-6a3a-4b34-b7cf-4521641a6115",
        "colab": {
          "base_uri": "https://localhost:8080/",
          "height": 85
        }
      },
      "cell_type": "code",
      "source": [
        "!pip install utils"
      ],
      "execution_count": 0,
      "outputs": [
        {
          "output_type": "stream",
          "text": [
            "Collecting utils\n",
            "  Downloading https://files.pythonhosted.org/packages/9b/de/9ffaf89be661b32d1e0cff05e1af5e4fc2d608c47498975e94aca219aed4/utils-0.9.0-py2.py3-none-any.whl\n",
            "Installing collected packages: utils\n",
            "Successfully installed utils-0.9.0\n"
          ],
          "name": "stdout"
        }
      ]
    },
    {
      "metadata": {
        "id": "qThVyNT8KLt-",
        "colab_type": "code",
        "outputId": "cf10d9c0-cebd-40e6-8c7e-f6e4140c3851",
        "colab": {
          "base_uri": "https://localhost:8080/",
          "height": 85
        }
      },
      "cell_type": "code",
      "source": [
        "!pip install sklearn"
      ],
      "execution_count": 0,
      "outputs": [
        {
          "output_type": "stream",
          "text": [
            "Requirement already satisfied: sklearn in /usr/local/lib/python3.6/dist-packages (0.0)\n",
            "Requirement already satisfied: scikit-learn in /usr/local/lib/python3.6/dist-packages (from sklearn) (0.20.2)\n",
            "Requirement already satisfied: numpy>=1.8.2 in /usr/local/lib/python3.6/dist-packages (from scikit-learn->sklearn) (1.14.6)\n",
            "Requirement already satisfied: scipy>=0.13.3 in /usr/local/lib/python3.6/dist-packages (from scikit-learn->sklearn) (1.1.0)\n"
          ],
          "name": "stdout"
        }
      ]
    },
    {
      "metadata": {
        "id": "BZ-gNSasS3l-",
        "colab_type": "code",
        "colab": {}
      },
      "cell_type": "code",
      "source": [
        "!mkdir '/content/gdrive/My Drive/movie review'\n",
        "!mkdir '/content/gdrive/My Drive/movie review/good/'\n",
        "!mkdir '/content/gdrive/My Drive/movie review/bad/'"
      ],
      "execution_count": 0,
      "outputs": []
    },
    {
      "metadata": {
        "id": "i2KKrw_STjle",
        "colab_type": "code",
        "colab": {}
      },
      "cell_type": "code",
      "source": [
        "from utils import *\n",
        "import tensorflow as tf\n",
        "import sklearn\n",
        "from sklearn import datasets\n",
        "from sklearn.model_selection import train_test_split\n",
        "import time\n",
        "import re\n",
        "import numpy as np\n",
        "\n",
        "def clearstring(string):\n",
        "  #只选择包含字母和数字的字符串\n",
        "  string = re.sub('[^A-Za-z0-9]+', ' ', string)\n",
        "  #把句子分割成多个单词合成的队列\n",
        "  string = string.split(' ')\n",
        "  string = filter(None, string)\n",
        "  #消除单词首尾空格\n",
        "  string = [y.strip() for y in string] \n",
        "  string = ' '.join(string)\n",
        "\n",
        "  return string.lower()\n",
        "\n",
        "def  seperate_dataset(trainset, ratio=0.5):\n",
        "  '''\n",
        "  把文本中语句一条条分隔开，并打上标签\n",
        "  '''\n",
        "  text = []\n",
        "  label = []\n",
        "  for i in range(int(len(trainset.data) * ratio)):\n",
        "    #把文本分割成多个句子\n",
        "    data_ = trainset.data[i].split('\\n')\n",
        "    #过滤掉空行\n",
        "    data_ = list(filter(None, data_))\n",
        "    for n in range(len(data_)):\n",
        "      #去掉句子中不符合规则的单词\n",
        "      data_[n] = clearstring(data_[n])\n",
        "    text += data_\n",
        "    for n in range(len(data_)):\n",
        "      #打上标签，因为目录下只有两个文件夹因此只有两种标签\n",
        "      label.append(trainset.target[i])\n",
        "  return text, label\n"
      ],
      "execution_count": 0,
      "outputs": []
    },
    {
      "metadata": {
        "id": "2fFMhE-BX3U_",
        "colab_type": "code",
        "outputId": "0c4eb42a-1ce7-45e8-8669-7d16f8738afa",
        "colab": {
          "base_uri": "https://localhost:8080/",
          "height": 34
        }
      },
      "cell_type": "code",
      "source": [
        "\n",
        "\n",
        "s = ' this is 98 !@# *q'\n",
        "s = clearstring(s)\n",
        "print(s)"
      ],
      "execution_count": 0,
      "outputs": [
        {
          "output_type": "stream",
          "text": [
            "this is 98 q\n"
          ],
          "name": "stdout"
        }
      ]
    },
    {
      "metadata": {
        "id": "cqXOlqR1TA8W",
        "colab_type": "code",
        "outputId": "0a75aa46-aa37-4d74-fa6a-7786c92478b7",
        "colab": {
          "base_uri": "https://localhost:8080/",
          "height": 51
        }
      },
      "cell_type": "code",
      "source": [
        "path = '/content/gdrive/My Drive/movie review'\n",
        "trainset = sklearn.datasets.load_files(container_path = path, encoding = 'UTF-8')\n",
        "\n",
        "'''\n",
        "将文本中的句子抽取出来，形成两个集合，由于文件夹下只有两个子文件夹\n",
        "因此它们对应两个标签\n",
        "'''\n",
        "trainset.data, trainset.target = seperate_dataset(trainset, 1.0)\n",
        "print(trainset.target_names)\n",
        "print('training data has {0} items'.format(len(trainset.data)))\n"
      ],
      "execution_count": 0,
      "outputs": [
        {
          "output_type": "stream",
          "text": [
            "['bad', 'good']\n",
            "training data has 10662 items\n"
          ],
          "name": "stdout"
        }
      ]
    },
    {
      "metadata": {
        "id": "boAGZun3G36r",
        "colab_type": "code",
        "outputId": "abafd366-1a6d-4169-be56-83deb1408e05",
        "colab": {
          "base_uri": "https://localhost:8080/",
          "height": 236
        }
      },
      "cell_type": "code",
      "source": [
        "#为每条记录附带两个标志位\n",
        "onehot = np.zeros((len(trainset.data), len(trainset.target_names)))\n",
        "#属于bad目录下的句子对应标签[1,0],属于good目录下的句子附带标签[0,1]\n",
        "onehot[np.arange(len(trainset.data)), trainset.target] = 1.0\n",
        "'''\n",
        "将trainset.data, trianset.target, onehot三个数组以8:2的方式分成两部分\n",
        "一部分用于测试\n",
        "'''\n",
        "train_X, test_X, train_Y, test_Y, train_onehot,test_onehot = train_test_split(trainset.data, trainset.target, onehot, test_size = 0.2)\n",
        "\n",
        "concat = ' '.join(trainset.data).split()\n",
        "vocabulary_size = len(list(set(concat)))\n",
        "print(vocabulary_size)\n"
      ],
      "execution_count": 0,
      "outputs": [
        {
          "output_type": "error",
          "ename": "NameError",
          "evalue": "ignored",
          "traceback": [
            "\u001b[0;31m---------------------------------------------------------------------------\u001b[0m",
            "\u001b[0;31mNameError\u001b[0m                                 Traceback (most recent call last)",
            "\u001b[0;32m<ipython-input-5-9809ddbd1beb>\u001b[0m in \u001b[0;36m<module>\u001b[0;34m()\u001b[0m\n\u001b[0;32m----> 1\u001b[0;31m \u001b[0monehot\u001b[0m \u001b[0;34m=\u001b[0m \u001b[0mnp\u001b[0m\u001b[0;34m.\u001b[0m\u001b[0mzeros\u001b[0m\u001b[0;34m(\u001b[0m\u001b[0;34m(\u001b[0m\u001b[0mlen\u001b[0m\u001b[0;34m(\u001b[0m\u001b[0mtrainset\u001b[0m\u001b[0;34m.\u001b[0m\u001b[0mdata\u001b[0m\u001b[0;34m)\u001b[0m\u001b[0;34m,\u001b[0m \u001b[0mlen\u001b[0m\u001b[0;34m(\u001b[0m\u001b[0mtrainset\u001b[0m\u001b[0;34m.\u001b[0m\u001b[0mtarget_names\u001b[0m\u001b[0;34m)\u001b[0m\u001b[0;34m)\u001b[0m\u001b[0;34m)\u001b[0m\u001b[0;34m\u001b[0m\u001b[0;34m\u001b[0m\u001b[0m\n\u001b[0m\u001b[1;32m      2\u001b[0m \u001b[0;31m#属于bad目录下的句子对应标签[1,0],属于good目录下的句子附带标签[0,1]\u001b[0m\u001b[0;34m\u001b[0m\u001b[0;34m\u001b[0m\u001b[0;34m\u001b[0m\u001b[0m\n\u001b[1;32m      3\u001b[0m \u001b[0monehot\u001b[0m\u001b[0;34m[\u001b[0m\u001b[0mnp\u001b[0m\u001b[0;34m.\u001b[0m\u001b[0marange\u001b[0m\u001b[0;34m(\u001b[0m\u001b[0mlen\u001b[0m\u001b[0;34m(\u001b[0m\u001b[0mtrainset\u001b[0m\u001b[0;34m.\u001b[0m\u001b[0mdata\u001b[0m\u001b[0;34m)\u001b[0m\u001b[0;34m)\u001b[0m\u001b[0;34m,\u001b[0m \u001b[0mtrainset\u001b[0m\u001b[0;34m.\u001b[0m\u001b[0mtarget\u001b[0m\u001b[0;34m]\u001b[0m \u001b[0;34m=\u001b[0m \u001b[0;36m1.0\u001b[0m\u001b[0;34m\u001b[0m\u001b[0;34m\u001b[0m\u001b[0m\n\u001b[1;32m      4\u001b[0m '''\n\u001b[1;32m      5\u001b[0m \u001b[0m将trainset\u001b[0m\u001b[0;34m.\u001b[0m\u001b[0mdata\u001b[0m\u001b[0;34m,\u001b[0m \u001b[0mtrianset\u001b[0m\u001b[0;34m.\u001b[0m\u001b[0mtarget\u001b[0m\u001b[0;34m,\u001b[0m \u001b[0monehot三个数组以8\u001b[0m\u001b[0;34m:\u001b[0m\u001b[0;36m2\u001b[0m\u001b[0m的方式分成两部分\u001b[0m\u001b[0;34m\u001b[0m\u001b[0;34m\u001b[0m\u001b[0m\n",
            "\u001b[0;31mNameError\u001b[0m: name 'np' is not defined"
          ]
        }
      ]
    },
    {
      "metadata": {
        "id": "6_CWcpFtzbBF",
        "colab_type": "code",
        "outputId": "2ee17745-6f06-46a8-a145-b7acbbc8d00d",
        "colab": {
          "base_uri": "https://localhost:8080/",
          "height": 34
        }
      },
      "cell_type": "code",
      "source": [
        "print(train_onehot[0])"
      ],
      "execution_count": 0,
      "outputs": [
        {
          "output_type": "stream",
          "text": [
            "[1. 0.]\n"
          ],
          "name": "stdout"
        }
      ]
    },
    {
      "metadata": {
        "id": "BZIMrigdTCaP",
        "colab_type": "code",
        "colab": {}
      },
      "cell_type": "code",
      "source": [
        "import collections\n",
        "\n",
        "def  build_dataset(words, n_words):\n",
        "  '''\n",
        "  将文本中的单词拆解成字典\n",
        "  '''\n",
        "  count = [['GO', 0], ['PAD', 1], ['EOS', 2], ['UNK', 3]]\n",
        "  #统计每个单词的出现次数,我们只选出现次数在前n_words范围内的单词\n",
        "  count.extend(collections.Counter(words).most_common(n_words - 1))\n",
        "  dictionary = dict()\n",
        "  for word, _ in count:\n",
        "    #给每个单词进行编号,编号会从4开始\n",
        "    dictionary[word] = len(dictionary)\n",
        "    \n",
        "  data = list()\n",
        "  unk_count = 0\n",
        "  for word in words:\n",
        "    index = dictionary.get(word, 0)\n",
        "    #统计没有被选入范围的单词\n",
        "    if index == 0:\n",
        "      unk_count += 1\n",
        "    data.append(index)\n",
        "  \n",
        "  count[0][1] = unk_count\n",
        "  #把编号和单词对应关系对换\n",
        "  reversed_dictionary = dict(zip(dictionary.values(), dictionary.keys()))\n",
        "  return data, count, dictionary, reversed_dictionary\n",
        "      "
      ],
      "execution_count": 0,
      "outputs": []
    },
    {
      "metadata": {
        "id": "_GS6EailYTxo",
        "colab_type": "code",
        "outputId": "d210cb63-1f55-4a3d-c23e-a1d64949d26c",
        "colab": {
          "base_uri": "https://localhost:8080/",
          "height": 219
        }
      },
      "cell_type": "code",
      "source": [
        "data, count, dictionary, rev_dictionary = build_dataset(concat, vocabulary_size)\n",
        "\n",
        "print('Most common words', count[4:10])\n",
        "print('Sample data', data[:10], [rev_dictionary[i] for i in data[:10]])"
      ],
      "execution_count": 0,
      "outputs": [
        {
          "output_type": "error",
          "ename": "NameError",
          "evalue": "ignored",
          "traceback": [
            "\u001b[0;31m---------------------------------------------------------------------------\u001b[0m",
            "\u001b[0;31mNameError\u001b[0m                                 Traceback (most recent call last)",
            "\u001b[0;32m<ipython-input-4-4d19377ab6dc>\u001b[0m in \u001b[0;36m<module>\u001b[0;34m()\u001b[0m\n\u001b[0;32m----> 1\u001b[0;31m \u001b[0mdata\u001b[0m\u001b[0;34m,\u001b[0m \u001b[0mcount\u001b[0m\u001b[0;34m,\u001b[0m \u001b[0mdictionary\u001b[0m\u001b[0;34m,\u001b[0m \u001b[0mrev_dictionary\u001b[0m \u001b[0;34m=\u001b[0m \u001b[0mbuild_dataset\u001b[0m\u001b[0;34m(\u001b[0m\u001b[0mconcat\u001b[0m\u001b[0;34m,\u001b[0m \u001b[0mvocabulary_size\u001b[0m\u001b[0;34m)\u001b[0m\u001b[0;34m\u001b[0m\u001b[0;34m\u001b[0m\u001b[0m\n\u001b[0m\u001b[1;32m      2\u001b[0m \u001b[0;34m\u001b[0m\u001b[0m\n\u001b[1;32m      3\u001b[0m \u001b[0mprint\u001b[0m\u001b[0;34m(\u001b[0m\u001b[0;34m'Most common words'\u001b[0m\u001b[0;34m,\u001b[0m \u001b[0mcount\u001b[0m\u001b[0;34m[\u001b[0m\u001b[0;36m4\u001b[0m\u001b[0;34m:\u001b[0m\u001b[0;36m10\u001b[0m\u001b[0;34m]\u001b[0m\u001b[0;34m)\u001b[0m\u001b[0;34m\u001b[0m\u001b[0;34m\u001b[0m\u001b[0m\n\u001b[1;32m      4\u001b[0m \u001b[0mprint\u001b[0m\u001b[0;34m(\u001b[0m\u001b[0;34m'Sample data'\u001b[0m\u001b[0;34m,\u001b[0m \u001b[0mdata\u001b[0m\u001b[0;34m[\u001b[0m\u001b[0;34m:\u001b[0m\u001b[0;36m10\u001b[0m\u001b[0;34m]\u001b[0m\u001b[0;34m,\u001b[0m \u001b[0;34m[\u001b[0m\u001b[0mrev_dictionary\u001b[0m\u001b[0;34m[\u001b[0m\u001b[0mi\u001b[0m\u001b[0;34m]\u001b[0m \u001b[0;32mfor\u001b[0m \u001b[0mi\u001b[0m \u001b[0;32min\u001b[0m \u001b[0mdata\u001b[0m\u001b[0;34m[\u001b[0m\u001b[0;34m:\u001b[0m\u001b[0;36m10\u001b[0m\u001b[0;34m]\u001b[0m\u001b[0;34m]\u001b[0m\u001b[0;34m)\u001b[0m\u001b[0;34m\u001b[0m\u001b[0;34m\u001b[0m\u001b[0m\n",
            "\u001b[0;31mNameError\u001b[0m: name 'concat' is not defined"
          ]
        }
      ]
    },
    {
      "metadata": {
        "id": "DCo8Le1qbhll",
        "colab_type": "code",
        "colab": {}
      },
      "cell_type": "code",
      "source": [
        "'''\n",
        "网络分两层，第一层128个节点，第二层也是128个节点，\n",
        "'''\n",
        "size_layer = 128\n",
        "num_layers = 2\n",
        "embedded_size = 128\n",
        "dimension_output = len(trainset.target_names)\n",
        "learning_rate = 1e-3\n",
        "maxlen = 50\n",
        "batch_size = 128\n",
        "\n",
        "class RNN:\n",
        "  def __init__(self, size_layer, num_layer, embedded_size, dict_size,\n",
        "              dimension_output, learning_rate):\n",
        "    def  cells(reuse = False):\n",
        "      '''\n",
        "      tensorflow封装了RNN节点，它跟我们前面描述的能在内部记录当前输入数据处理信息，\n",
        "      并将信息传递到下一次数据处理的R节点一样\n",
        "      '''\n",
        "      return tf.nn.rnn_cell.BasicRNNCell(size_layer, reuse=reuse)\n",
        "    #定义输入数据变量\n",
        "    self.X = tf.placeholder(tf.int32, [None, None])\n",
        "    #定义输出数据变量\n",
        "    self.Y = tf.placeholder(tf.float32, [None, dimension_output])\n",
        "    '''\n",
        "    定义embedding层，这一层与我们前面讲单词向量训练时提到过的网络第一层一样，它对应\n",
        "    一个二维矩阵，矩阵的每一行表示单词向量,self.X是one-hont-vector,它会将矩阵的某一行\n",
        "    挑选出来\n",
        "    '''\n",
        "    embeddings = tf.Variable(tf.random_uniform([dict_size, embedded_size], -1, 1))\n",
        "    embedded = tf.nn.embedding_lookup(embeddings, self.X)\n",
        "    #串联两个RNN节点增强识别能力\n",
        "    rnn_cells = tf.nn.rnn_cell.MultiRNNCell([cells() for _ in range(num_layers)])\n",
        "    #根据输入数据长度构造相应数量RNN节点，形成RNN网络层\n",
        "    outputs, _ = tf.nn.dynamic_rnn(rnn_cells, embedded, dtype=tf.float32)\n",
        "    #将RNN网络层输出的含有128个分量的向量转换为只有2个分量的向量\n",
        "    W = tf.get_variable('w', shape=(size_layer, dimension_output),\n",
        "                       initializer=tf.orthogonal_initializer())\n",
        "    b = tf.get_variable('b', shape=(dimension_output), initializer=tf.zeros_initializer())\n",
        "    #将两个分量重，数值较大的那个当做当前语句所属分类\n",
        "    self.logits = tf.matmul(outputs[:, -1], W) + b\n",
        "    self.cost = tf.reduce_mean(tf.nn.softmax_cross_entropy_with_logits(logits=self.logits,\n",
        "                                                                labels=self.Y))\n",
        "    self.optimizer = tf.train.AdamOptimizer(learning_rate=learning_rate).minimize(self.cost)\n",
        "    \n",
        "    \n",
        "    correct_pred = tf.equal(tf.argmax(self.logits, 1), tf.argmax(self.Y, 1))\n",
        "    self.accuracy = tf.reduce_mean(tf.cast(correct_pred, tf.float32))"
      ],
      "execution_count": 0,
      "outputs": []
    },
    {
      "metadata": {
        "id": "WB8xFSaqdIOc",
        "colab_type": "code",
        "colab": {}
      },
      "cell_type": "code",
      "source": [
        "'''\n",
        "网络分两层，第一层128个节点，第二层也是128个节点，\n",
        "'''\n",
        "size_layer = 128\n",
        "num_layers = 2\n",
        "embedded_size = 128\n",
        "dimension_output = len(trainset.target_names)\n",
        "learning_rate = 1e-3\n",
        "maxlen = 50\n",
        "batch_size = 128\n",
        "\n",
        "class RNN:\n",
        "  def __init__(self, size_layer, num_layer, embedded_size, dict_size,\n",
        "              dimension_output, learning_rate):\n",
        "    def  cells(reuse = False):\n",
        "      '''\n",
        "      tensorflow封装了RNN节点，它跟我们前面描述的能在内部记录当前输入数据处理信息，\n",
        "      并将信息传递到下一次数据处理的R节点一样\n",
        "      '''\n",
        "      return tf.nn.rnn_cell.LSTMCell(size_layer, reuse=reuse)\n",
        "    #定义输入数据变量\n",
        "    self.X = tf.placeholder(tf.int32, [None, None])\n",
        "    #定义输出数据变量\n",
        "    self.Y = tf.placeholder(tf.float32, [None, dimension_output])\n",
        "    '''\n",
        "    定义embedding层，这一层与我们前面讲单词向量训练时提到过的网络第一层一样，它对应\n",
        "    一个二维矩阵，矩阵的每一行表示单词向量,self.X是one-hont-vector,它会将矩阵的某一行\n",
        "    挑选出来\n",
        "    '''\n",
        "    embeddings = tf.Variable(tf.random_uniform([dict_size, embedded_size], -1, 1))\n",
        "    embedded = tf.nn.embedding_lookup(embeddings, self.X)\n",
        "    #串联两个RNN节点增强识别能力\n",
        "    rnn_cells = tf.nn.rnn_cell.MultiRNNCell([cells() for _ in range(num_layers)])\n",
        "    #根据输入数据长度构造相应数量RNN节点，形成RNN网络层\n",
        "    outputs, _ = tf.nn.dynamic_rnn(rnn_cells, embedded, dtype=tf.float32)\n",
        "    #将RNN网络层输出的含有128个分量的向量转换为只有2个分量的向量\n",
        "    W = tf.get_variable('w', shape=(size_layer, dimension_output),\n",
        "                       initializer=tf.orthogonal_initializer())\n",
        "    b = tf.get_variable('b', shape=(dimension_output), initializer=tf.zeros_initializer())\n",
        "    #将两个分量重，数值较大的那个当做当前语句所属分类\n",
        "    self.logits = tf.matmul(outputs[:, -1], W) + b\n",
        "    self.cost = tf.reduce_mean(tf.nn.softmax_cross_entropy_with_logits(logits=self.logits,\n",
        "                                                                labels=self.Y))\n",
        "    self.optimizer = tf.train.AdamOptimizer(learning_rate=learning_rate).minimize(self.cost)\n",
        "    \n",
        "    \n",
        "    correct_pred = tf.equal(tf.argmax(self.logits, 1), tf.argmax(self.Y, 1))\n",
        "    self.accuracy = tf.reduce_mean(tf.cast(correct_pred, tf.float32))"
      ],
      "execution_count": 0,
      "outputs": []
    },
    {
      "metadata": {
        "id": "7jd2rOiQptXi",
        "colab_type": "text"
      },
      "cell_type": "markdown",
      "source": [
        ""
      ]
    },
    {
      "metadata": {
        "id": "xYU1t07SirMt",
        "colab_type": "code",
        "outputId": "565d1cc7-34c1-4cf6-a4ce-b1aedec6df46",
        "colab": {
          "base_uri": "https://localhost:8080/",
          "height": 102
        }
      },
      "cell_type": "code",
      "source": [
        "'''\n",
        "将输入语句中的单词转换成对应编号\n",
        "'''\n",
        "def  word_to_index(corpus, dic, maxlen, UNK=3):\n",
        "  X = np.zeros((len(corpus), maxlen))\n",
        "  for i in range(len(corpus)):\n",
        "    '''\n",
        "    规定一句话单词量不能超过maxlen，超过了就截断。然后从最后一个单词开始，到第一个单词，\n",
        "    将每个单词转换为对应编号\n",
        "    '''\n",
        "    for no, k in enumerate(corpus[i].split()[:maxlen][::-1]):\n",
        "      try:\n",
        "        X[i, -1 - no] = dic[k]\n",
        "      except:\n",
        "        X[i, -1 - no] = UNK\n",
        "      \n",
        "  return X\n",
        "\n",
        "s = []\n",
        "s.append(\"the rock is destined to be\")\n",
        "x = word_to_index(s, dictionary, maxlen)\n",
        "print(x)"
      ],
      "execution_count": 0,
      "outputs": [
        {
          "output_type": "stream",
          "text": [
            "[[   0.    0.    0.    0.    0.    0.    0.    0.    0.    0.    0.    0.\n",
            "     0.    0.    0.    0.    0.    0.    0.    0.    0.    0.    0.    0.\n",
            "     0.    0.    0.    0.    0.    0.    0.    0.    0.    0.    0.    0.\n",
            "     0.    0.    0.    0.    0.    0.    0.    0.    4.  645.    9. 2540.\n",
            "     8.   22.]]\n"
          ],
          "name": "stdout"
        }
      ]
    },
    {
      "metadata": {
        "id": "vd0XilmviQYP",
        "colab_type": "code",
        "outputId": "ee47c4de-aca1-46f7-b8c5-5d90153bda08",
        "colab": {
          "base_uri": "https://localhost:8080/",
          "height": 2128
        }
      },
      "cell_type": "code",
      "source": [
        "import time\n",
        "\n",
        "tf.reset_default_graph()\n",
        "sess = tf.InteractiveSession()\n",
        "rnn = RNN(size_layer, num_layers, embedded_size, vocabulary_size+4, dimension_output,\n",
        "         learning_rate)\n",
        "sess.run(tf.global_variables_initializer())\n",
        "\n",
        "saver = tf.train.Saver(tf.global_variables(), max_to_keep=2)\n",
        "checkpint_dir =  '/content/gdrive/My Drive/dataset/checkpoints_basci_rnn'\n",
        "\n",
        "EARLY_STOPPING, CURRENT_CHECKPOINT, CURRENT_ACC, EPOCH = 30, 0, 0, 0\n",
        "while True:\n",
        "  lasttime = time.time()\n",
        "  if CURRENT_CHECKPOINT == EARLY_STOPPING:\n",
        "    print('break epoch: %d\\n' % (EPOCH))\n",
        "    break\n",
        "    \n",
        "  train_acc, train_loss, test_acc,test_loss = 0,0,0,0\n",
        "  #训练网络\n",
        "  for i in range(0, (len(train_X) // batch_size) * batch_size, batch_size):\n",
        "    batch_x = word_to_index(train_X[i : i + batch_size], dictionary, maxlen)\n",
        "    acc, loss, _ = sess.run([rnn.accuracy, rnn.cost, rnn.optimizer], \n",
        "                            feed_dict = {rnn.X: batch_x,\n",
        "                                         rnn.Y: train_onehot[i : i + batch_size]})\n",
        "    train_loss += loss\n",
        "    train_acc += acc\n",
        "  \n",
        "  #检测训练结果\n",
        "  for i in range(0, (len(test_X) // batch_size) * batch_size, batch_size):\n",
        "    batch_x = word_to_index(test_X[i : i + batch_size], dictionary, batch_size)\n",
        "    acc, loss = sess.run([rnn.accuracy, rnn.cost],\n",
        "                        feed_dict = {rnn.X : batch_x,\n",
        "                                            \n",
        "                                    rnn.Y : test_onehot[i : i + batch_size]})\n",
        "    test_loss += loss\n",
        "    test_acc += acc\n",
        "  \n",
        "  train_loss /= (len(train_X) // batch_size)\n",
        "  train_acc /= (len(train_X) // batch_size)\n",
        "  test_loss /= (len(test_X) // batch_size)\n",
        "  test_acc /= (len(test_X) // batch_size)\n",
        "  \n",
        "  if test_acc > CURRENT_ACC:\n",
        "    print('epoch: %d, pass acc: %f, current acc %f' % (EPOCH, CURRENT_ACC, test_acc))\n",
        "    CURRENT_ACC = test_acc\n",
        "    CURRENT_CHECKPOINT = 0\n",
        "  else:\n",
        "    CURRENT_CHECKPOINT += 1\n",
        "  \n",
        "  print('time taken: ', time.time() - lasttime)\n",
        "  print('epoch: %d, training loss: %f, training acc: %f, valid loss: %f, valid acc: %f\\n' % (EPOCH, \n",
        "                                                                                             train_loss, \n",
        "                                                                                            train_acc, test_loss,\n",
        "                                                                                            test_acc))\n",
        "  path = saver.save(sess, checkpint_dir, global_step = EPOCH)\n",
        "  EPOCH += 1\n",
        "  \n",
        "  "
      ],
      "execution_count": 0,
      "outputs": [
        {
          "output_type": "stream",
          "text": [
            "WARNING:tensorflow:From <ipython-input-9-3283846d905a>:43: softmax_cross_entropy_with_logits (from tensorflow.python.ops.nn_ops) is deprecated and will be removed in a future version.\n",
            "Instructions for updating:\n",
            "\n",
            "Future major versions of TensorFlow will allow gradients to flow\n",
            "into the labels input on backprop by default.\n",
            "\n",
            "See `tf.nn.softmax_cross_entropy_with_logits_v2`.\n",
            "\n",
            "epoch: 0, pass acc: 0.000000, current acc 0.618652\n",
            "time taken:  7.767234802246094\n",
            "epoch: 0, training loss: 0.671953, training acc: 0.575758, valid loss: 0.642627, valid acc: 0.618652\n",
            "\n",
            "epoch: 1, pass acc: 0.618652, current acc 0.686523\n",
            "time taken:  7.028607606887817\n",
            "epoch: 1, training loss: 0.573840, training acc: 0.694957, valid loss: 0.602087, valid acc: 0.686523\n",
            "\n",
            "epoch: 2, pass acc: 0.686523, current acc 0.709961\n",
            "time taken:  7.2615602016448975\n",
            "epoch: 2, training loss: 0.434170, training acc: 0.797940, valid loss: 0.597988, valid acc: 0.709961\n",
            "\n",
            "epoch: 3, pass acc: 0.709961, current acc 0.729492\n",
            "time taken:  7.1144936084747314\n",
            "epoch: 3, training loss: 0.297450, training acc: 0.873816, valid loss: 0.642368, valid acc: 0.729492\n",
            "\n",
            "time taken:  7.101795434951782\n",
            "epoch: 4, training loss: 0.210415, training acc: 0.916548, valid loss: 0.807052, valid acc: 0.701172\n",
            "\n",
            "epoch: 5, pass acc: 0.729492, current acc 0.752930\n",
            "time taken:  7.266265630722046\n",
            "epoch: 5, training loss: 0.142905, training acc: 0.943774, valid loss: 0.862301, valid acc: 0.752930\n",
            "\n",
            "time taken:  7.097060441970825\n",
            "epoch: 6, training loss: 0.066491, training acc: 0.976562, valid loss: 1.233097, valid acc: 0.750977\n",
            "\n",
            "time taken:  6.931037187576294\n",
            "epoch: 7, training loss: 0.033549, training acc: 0.988755, valid loss: 1.440506, valid acc: 0.739258\n",
            "\n",
            "time taken:  7.264473915100098\n",
            "epoch: 8, training loss: 0.020964, training acc: 0.992898, valid loss: 1.432105, valid acc: 0.743164\n",
            "\n",
            "time taken:  6.998985290527344\n",
            "epoch: 9, training loss: 0.025145, training acc: 0.990885, valid loss: 1.340458, valid acc: 0.734375\n",
            "\n",
            "time taken:  7.237513065338135\n",
            "epoch: 10, training loss: 0.008404, training acc: 0.997751, valid loss: 1.796301, valid acc: 0.740723\n",
            "\n",
            "time taken:  7.092021465301514\n",
            "epoch: 11, training loss: 0.004196, training acc: 0.998580, valid loss: 2.016355, valid acc: 0.742188\n",
            "\n",
            "time taken:  7.0686869621276855\n",
            "epoch: 12, training loss: 0.001868, training acc: 0.999408, valid loss: 2.048128, valid acc: 0.745117\n",
            "\n",
            "time taken:  7.095523357391357\n",
            "epoch: 13, training loss: 0.001933, training acc: 0.999408, valid loss: 2.341710, valid acc: 0.742676\n",
            "\n",
            "time taken:  7.142311096191406\n",
            "epoch: 14, training loss: 0.001616, training acc: 0.999290, valid loss: 2.439557, valid acc: 0.738281\n",
            "\n",
            "time taken:  6.908175706863403\n",
            "epoch: 15, training loss: 0.014515, training acc: 0.995620, valid loss: 1.553147, valid acc: 0.738281\n",
            "\n",
            "time taken:  7.243275165557861\n",
            "epoch: 16, training loss: 0.008018, training acc: 0.997396, valid loss: 1.920356, valid acc: 0.738281\n",
            "\n",
            "time taken:  7.034832000732422\n",
            "epoch: 17, training loss: 0.000837, training acc: 0.999882, valid loss: 2.304785, valid acc: 0.736816\n",
            "\n",
            "time taken:  6.979025363922119\n",
            "epoch: 18, training loss: 0.000104, training acc: 1.000000, valid loss: 2.379428, valid acc: 0.737793\n",
            "\n",
            "time taken:  7.142873287200928\n",
            "epoch: 19, training loss: 0.000060, training acc: 1.000000, valid loss: 2.442740, valid acc: 0.738281\n",
            "\n",
            "time taken:  7.170874357223511\n",
            "epoch: 20, training loss: 0.000045, training acc: 1.000000, valid loss: 2.493447, valid acc: 0.737305\n",
            "\n",
            "time taken:  7.029544115066528\n",
            "epoch: 21, training loss: 0.000036, training acc: 1.000000, valid loss: 2.536133, valid acc: 0.737793\n",
            "\n",
            "time taken:  7.205560684204102\n",
            "epoch: 22, training loss: 0.000030, training acc: 1.000000, valid loss: 2.573324, valid acc: 0.737793\n",
            "\n",
            "time taken:  7.134237051010132\n",
            "epoch: 23, training loss: 0.000026, training acc: 1.000000, valid loss: 2.606486, valid acc: 0.737305\n",
            "\n",
            "time taken:  7.035143136978149\n",
            "epoch: 24, training loss: 0.000022, training acc: 1.000000, valid loss: 2.636549, valid acc: 0.737793\n",
            "\n",
            "time taken:  7.2292163372039795\n",
            "epoch: 25, training loss: 0.000019, training acc: 1.000000, valid loss: 2.664146, valid acc: 0.738281\n",
            "\n",
            "time taken:  7.155940532684326\n",
            "epoch: 26, training loss: 0.000017, training acc: 1.000000, valid loss: 2.689735, valid acc: 0.737793\n",
            "\n",
            "time taken:  6.990201950073242\n",
            "epoch: 27, training loss: 0.000015, training acc: 1.000000, valid loss: 2.713650, valid acc: 0.737305\n",
            "\n",
            "time taken:  7.205684423446655\n",
            "epoch: 28, training loss: 0.000014, training acc: 1.000000, valid loss: 2.736149, valid acc: 0.737305\n",
            "\n",
            "time taken:  7.105408430099487\n",
            "epoch: 29, training loss: 0.000013, training acc: 1.000000, valid loss: 2.757434, valid acc: 0.737305\n",
            "\n",
            "time taken:  7.043409585952759\n",
            "epoch: 30, training loss: 0.000011, training acc: 1.000000, valid loss: 2.777664, valid acc: 0.737305\n",
            "\n",
            "time taken:  7.169394016265869\n",
            "epoch: 31, training loss: 0.000010, training acc: 1.000000, valid loss: 2.796971, valid acc: 0.737305\n",
            "\n",
            "time taken:  7.102253198623657\n",
            "epoch: 32, training loss: 0.000010, training acc: 1.000000, valid loss: 2.815462, valid acc: 0.737305\n",
            "\n",
            "time taken:  7.000823020935059\n",
            "epoch: 33, training loss: 0.000009, training acc: 1.000000, valid loss: 2.833227, valid acc: 0.737793\n",
            "\n",
            "time taken:  7.216555595397949\n",
            "epoch: 34, training loss: 0.000008, training acc: 1.000000, valid loss: 2.850342, valid acc: 0.738281\n",
            "\n",
            "time taken:  7.068748712539673\n",
            "epoch: 35, training loss: 0.000008, training acc: 1.000000, valid loss: 2.866868, valid acc: 0.738770\n",
            "\n",
            "break epoch: 36\n",
            "\n"
          ],
          "name": "stdout"
        }
      ]
    },
    {
      "metadata": {
        "id": "2_m-JsyQp1lk",
        "colab_type": "code",
        "colab": {}
      },
      "cell_type": "code",
      "source": [
        "!mkdir '/content/gdrive/My Drive/conversation'"
      ],
      "execution_count": 0,
      "outputs": []
    },
    {
      "metadata": {
        "id": "pmhhTamsq2Tt",
        "colab_type": "code",
        "outputId": "d1649347-500c-41a8-9112-b56048811780",
        "colab": {
          "base_uri": "https://localhost:8080/",
          "height": 173
        }
      },
      "cell_type": "code",
      "source": [
        "'''\n",
        "将文本句子分解成单词，并构建词库\n",
        "'''\n",
        "\n",
        "path = '/content/gdrive/My Drive/conversation/'\n",
        "with open(path + 'question.txt', 'r') as fopen:\n",
        "  text_question = fopen.read().lower().split('\\n')\n",
        "with open(path + 'answer.txt', 'r') as fopen:\n",
        "  text_answer = fopen.read().lower().split('\\n')\n",
        "  \n",
        "concat_question = ' '.join(text_question).split()\n",
        "vocabulary_size_question = len(list(set(concat_question)))\n",
        "data_question, count_question, dictionary_question, rev_dictionary_question = build_dataset(concat_question, \n",
        "                                                                                         vocabulary_size_question)\n",
        "print('vocab question size: %d' %(vocabulary_size_question))\n",
        "#前4个单词有控制功能，具有含义的单词从编号4开始\n",
        "print('Most common words:', count_question[4:10])\n",
        "print('Sample data: ', data_question[:10], [rev_dictionary_question[i] for i in data_question[:10]])\n",
        "\n",
        "path = '/content/gdrive/My Drive/conversation/'\n",
        "with open(path + 'question.txt', 'r') as fopen:\n",
        "  text_question = fopen.read().lower().split('\\n')\n",
        "with open(path + 'answer.txt', 'r') as fopen:\n",
        "  text_answer = fopen.read().lower().split('\\n')\n",
        "  \n",
        "concat_answer = ' '.join(text_answer).split()\n",
        "vocabulary_size_answer = len(list(set(concat_answer)))\n",
        "data_answer, count_answer, dictionary_answer, rev_dictionary_answer = build_dataset(concat_answer, \n",
        "                                                                                         vocabulary_size_answer)\n",
        "print('vocab answer size: %d' %(vocabulary_size_answer))\n",
        "#前4个单词有控制功能，具有含义的单词从编号4开始\n",
        "print('Most common words:', count_answer[4:10])\n",
        "print('Sample data: ', data_answer[:10], [rev_dictionary_answer[i] for i in data_answer[:10]])\n",
        "\n",
        "l = [dictionary_question['how'], dictionary_question['are'], dictionary_question['you']]\n",
        "print(l)\n",
        "l = [dictionary_answer['i'],dictionary_answer['am'], dictionary_answer['fine']]\n",
        "print(l)\n"
      ],
      "execution_count": 0,
      "outputs": [
        {
          "output_type": "stream",
          "text": [
            "vocab question size: 331\n",
            "Most common words: [('you', 73), ('is', 67), ('what', 63), ('a', 49), ('the', 40), ('do', 36)]\n",
            "Sample data:  [82, 54, 142, 54, 143, 54, 144, 54, 145, 11] ['hi', 'good', 'morning', 'good', 'afternoon', 'good', 'evening', 'good', 'night', 'how']\n",
            "vocab answer size: 504\n",
            "Most common words: [('i', 127), ('you', 55), ('a', 47), ('to', 44), ('the', 40), ('it', 38)]\n",
            "Sample data:  [142, 105, 34, 214, 34, 215, 34, 216, 34, 217] ['hi', 'there', 'good', 'morning', 'good', 'afternoon', 'good', 'evening', 'good', 'night']\n",
            "[11, 10, 4]\n",
            "[4, 10, 106]\n"
          ],
          "name": "stdout"
        }
      ]
    },
    {
      "metadata": {
        "id": "C9SNkxHV7wns",
        "colab_type": "code",
        "colab": {}
      },
      "cell_type": "code",
      "source": [
        "GO = dictionary_question['GO']\n",
        "PAD = dictionary_question['PAD']\n",
        "EOS = dictionary_question['EOS']\n",
        "UNK = dictionary_question['UNK']\n",
        "\n",
        "import tensorflow as tf"
      ],
      "execution_count": 0,
      "outputs": []
    },
    {
      "metadata": {
        "id": "9_KN3mDzPrTE",
        "colab_type": "code",
        "outputId": "e4dfc83f-659f-4e9c-ac2c-4acbb4a5cbd6",
        "colab": {
          "base_uri": "https://localhost:8080/",
          "height": 68
        }
      },
      "cell_type": "code",
      "source": [
        "'''\n",
        "tf.strided_slice(input, begin, end, stride), 对向量进行切片begin表示切片的起始位置，\n",
        "end-1为切片的结束位置\n",
        "'''\n",
        "data = [1,2,3,4,5,6,7,8]\n",
        "#从下标0开始到下标为5的元素作为切片，每隔一个元素切一刀\n",
        "x = tf.strided_slice(data, [0], [6], [1])\n",
        "with tf.Session() as sess:\n",
        "  print('begin: 0, end: 6, stride: 1: ', sess.run(x))\n",
        "#从0开始到下标为5的元素范围内，每隔两个元素切一刀\n",
        "x = tf.strided_slice(data, [0], [6], [2])\n",
        "with tf.Session() as sess:\n",
        "  print('begin: 0, end: 6, stride: 2: ', sess.run(x))\n",
        "#end可以是负数，表示倒数第几个元素，例如-1表示最后一个元素，-2表示倒数第二个元素\n",
        "x = tf.strided_slice(data, [2], [-2], [1])\n",
        "with tf.Session() as sess:\n",
        "  print('begin:2, end 6, stride: 1: ', sess.run(x))"
      ],
      "execution_count": 0,
      "outputs": [
        {
          "output_type": "stream",
          "text": [
            "begin: 0, end: 6, stride: 1:  [1 2 3 4 5 6]\n",
            "begin: 0, end: 6, stride: 2:  [1 3 5]\n",
            "begin:2, end 6, stride: 1:  [3 4 5 6]\n"
          ],
          "name": "stdout"
        }
      ]
    },
    {
      "metadata": {
        "id": "14x6-MptSNb2",
        "colab_type": "code",
        "outputId": "b3bc4e88-bdf7-4c7f-a08d-ad8100b97515",
        "colab": {
          "base_uri": "https://localhost:8080/",
          "height": 85
        }
      },
      "cell_type": "code",
      "source": [
        "'''\n",
        "tf.strided_slice如果对高维向量进行切片时，begin, end, stride要对应向量的维度,\n",
        "如果我们想把最后一列从多维向量中去除，可以运行如下代码，\n",
        "'''\n",
        "data = [[1, 2, 3],\n",
        "        [4, 5, 6],\n",
        "        [7, 8, 9]]\n",
        "\n",
        "batch_size = len(data[0])\n",
        "print('batch_size: ', batch_size)\n",
        "x = tf.strided_slice(data, [0,0], [batch_size, -1], [1, 1])\n",
        "with tf.Session() as sess:\n",
        "  print('begin: [0, 0], end: [batch_size, -1], stride: [1,1]: ', sess.run(x))"
      ],
      "execution_count": 0,
      "outputs": [
        {
          "output_type": "stream",
          "text": [
            "batch_size:  3\n",
            "begin: [0, 0], end: [batch_size, -1], stride: [1,1]:  [[1 2]\n",
            " [4 5]\n",
            " [7 8]]\n"
          ],
          "name": "stdout"
        }
      ]
    },
    {
      "metadata": {
        "id": "nC7mfysVbGwB",
        "colab_type": "code",
        "outputId": "053f2aac-5ea1-4286-c6c6-b8f41f736ddf",
        "colab": {
          "base_uri": "https://localhost:8080/",
          "height": 68
        }
      },
      "cell_type": "code",
      "source": [
        "x = tf.concat([tf.fill([batch_size, 2], GO), data], 1)\n",
        "with tf.Session() as sess:\n",
        "  print('concat and fill', sess.run(x))"
      ],
      "execution_count": 0,
      "outputs": [
        {
          "output_type": "stream",
          "text": [
            "concat and fill [[0 0 1 2 3]\n",
            " [0 0 4 5 6]\n",
            " [0 0 7 8 9]]\n"
          ],
          "name": "stdout"
        }
      ]
    },
    {
      "metadata": {
        "id": "Rm2tZ70SxYd2",
        "colab_type": "code",
        "outputId": "ebd93aaa-2324-42cd-f45f-0c44a94f1f72",
        "colab": {
          "base_uri": "https://localhost:8080/",
          "height": 68
        }
      },
      "cell_type": "code",
      "source": [
        "max_value = tf.reduce_max([1,3,2])\n",
        "mask = tf.sequence_mask([1,3,2], max_value, dtype=tf.float32)\n",
        "with tf.Session() as sess:\n",
        "  print('mask: ', sess.run(mask))"
      ],
      "execution_count": 0,
      "outputs": [
        {
          "output_type": "stream",
          "text": [
            "mask:  [[1. 0. 0.]\n",
            " [1. 1. 1.]\n",
            " [1. 1. 0.]]\n"
          ],
          "name": "stdout"
        }
      ]
    },
    {
      "metadata": {
        "id": "jyTncWWIAiPI",
        "colab_type": "code",
        "colab": {}
      },
      "cell_type": "code",
      "source": [
        "class sequence2sequence:\n",
        "  def  __init__(self, size_layer, num_layers, embedded_size, question_dict_size, \n",
        "               answer_dict_size, learning_rate, batch_size):\n",
        "    def  cells(reuse = False):\n",
        "      return tf.nn.rnn_cell.LSTMCell(size_layer, initializer=tf.orthogonal_initializer(),\n",
        "                                    reuse = reuse)\n",
        "    \n",
        "    self.X = tf.placeholder(tf.int32, [None, None])\n",
        "    self.Y = tf.placeholder(tf.int32, [None, None])\n",
        "    self.X_seq_len = tf.placeholder(tf.int32, [None])\n",
        "    self.Y_seq_len = tf.placeholder(tf.int32, [None])\n",
        "    \n",
        "    #构造图12-22所示的embedding层\n",
        "    with tf.variable_scope('encoder_embeddings'):\n",
        "      #embedding层是二维矩阵，行数对应问题文本的单词格式，列数有程序指定\n",
        "      encoder_embeddings = tf.Variable(tf.random_uniform([question_dict_size,\n",
        "                                                         embedded_size], -1, 1))\n",
        "      #self.X包含句子每个单词的编号,网络根据编号从矩阵中挑选出对应的行\n",
        "      encoder_embedded = tf.nn.embedding_lookup(encoder_embeddings, self.X)\n",
        "      #去掉最后一列，因为最后一个单词对应的是一个EOS控制符而不是有意义的单词\n",
        "      main = tf.strided_slice(self.X, [0,0], [batch_size, -1], [1, 1])\n",
        "    \n",
        "    with tf.variable_scope('decoder_embeddings'):\n",
        "      '''\n",
        "      在main向量前面增加一列，用GO对应的值来填充，假设\n",
        "      main = [ [1,2,3],\n",
        "               [4,5,6],\n",
        "               [7,8,9]]\n",
        "      下面一行代码执行后，main会变成\n",
        "      main = [ [0,1,2,3],\n",
        "               [0,4,5,6],\n",
        "               [0,7,8,9]]\n",
        "      '''\n",
        "      decoder_input = tf.concat([tf.fill([batch_size, 1], GO), main], 1)\n",
        "      decoder_embeddings = tf.Variable(tf.random_uniform([answer_dict_size, embedded_size], -1, 1))\n",
        "      decoder_embedded = tf.nn.embedding_lookup(decoder_embeddings, decoder_input)\n",
        "      \n",
        "    with tf.variable_scope('encoder'):\n",
        "      #将两个LSTM节点串联起来\n",
        "      rnn_cells = tf.nn.rnn_cell.MultiRNNCell([cells() for _ in range(num_layers)])\n",
        "      _, last_state = tf.nn.dynamic_rnn(rnn_cells, encoder_embedded, dtype = tf.float32)\n",
        "    with tf.variable_scope('decoder'):\n",
        "      rnn_cells_dec = tf.nn.rnn_cell.MultiRNNCell([cells() for _ in range(num_layers)])\n",
        "      #把encoder部分LSTM网络输出的最终状态当做decoder部分的LSTM网络的初始状态\n",
        "      outputs, _ = tf.nn.dynamic_rnn(rnn_cells_dec, decoder_embedded,\n",
        "                                    initial_state = last_state,\n",
        "                                    dtype = tf.float32)\n",
        "      \n",
        "    \n",
        "    '''\n",
        "      这里需要注意，假设self.X对应第一个句子是'how are your',self.Y对应的第一个句子是答案：'i am fine'，\n",
        "      后者转换为编号后的向量[4，10， 106]，由于每个句子对应向量含有50个分量，\n",
        "      那么不足50个单词的句子对应的向量会用控制符PAD的值进行填充，于是向量变为[4,6,106,1,1....1]\n",
        "      也就是后面47个分量用1来填充,\n",
        "      \n",
        "      经过调用tf.sequence_mask后，会产生一个标志位向量[True, True, True, True,....True],\n",
        "      于是当向量输入到网络时，sequence_loss就会查看targets参数对应向量中的50个分量，其他分量\n",
        "      不看，由于答案文本中单词数可能很多，因此网络只考虑向量中对应的50个分量对应的节点进行更新，这样能有效\n",
        "      降低运算量\n",
        "      \n",
        "      它在内部构造一个长度与answer_dict_size相同的内部向量，由于答案文本包含504个单词，因此\n",
        "      网络构造内部向量的长度为504，他把所有分量的值设置为0，根据填充后向量为[4,6,106,1,1....1]，\n",
        "      它把下标为4，6，106，1这4个下标对应分量设置为1\n",
        "      \n",
        "      然后与网络的输出层做差值运算，将运算结果反向传播后，使用梯度下降法调节参数，使得网络输出最后\n",
        "      结果中，下标为4，6，106，1这四个节点的值尽可能接近1，这意味着我们在调教网络看到输入语句是\n",
        "      'how are you'时，它懂得回答'i am fine'\n",
        "    '''\n",
        "    with tf.variable_scope('logits'):\n",
        "      self.logits = tf.layers.dense(outputs, answer_dict_size)\n",
        "      print(self.logits)\n",
        "      masks = tf.sequence_mask(self.Y_seq_len, tf.reduce_max(self.Y_seq_len), dtype = tf.float32)\n",
        "      \n",
        "    with tf.variable_scope('cost'):\n",
        "      self.cost = tf.contrib.seq2seq.sequence_loss(logits = self.logits,\n",
        "                                                  targets = self.Y\n",
        "                                                  ,weights = masks)\n",
        "    with tf.variable_scope('optimizer'):\n",
        "      self.optimizer = tf.train.AdamOptimizer(learning_rate = learning_rate).minimize(self.cost)"
      ],
      "execution_count": 0,
      "outputs": []
    },
    {
      "metadata": {
        "id": "OZeOYZZaBp19",
        "colab_type": "code",
        "colab": {}
      },
      "cell_type": "code",
      "source": [
        "#将单词转换为编号\n",
        "def  str_idx(corpus, dic):\n",
        "  X = []\n",
        "  for i in corpus:\n",
        "    ints = []\n",
        "    for k in i.split():\n",
        "      try:\n",
        "        ints.append(dic[k])\n",
        "      except Exception as e:\n",
        "        print(e)\n",
        "        #2表示句子的结束\n",
        "        ints.append(2)\n",
        "        \n",
        "    X.append(ints)\n",
        "  return X\n",
        "\n",
        "'''\n",
        "填充句子向量，当我们把句子单词转换为编号存储为向量时，规定向量的最大长度是50，如果句子单词不足50个\n",
        "后面就用控制字符PAD填充，例如'how are you' 转换为编号时是11，10，4，填充后为11,10,4,1,1,1...1总共50个元素\n",
        "'''\n",
        "def  pad_sentence_batch(sentence_batch, pad_int):\n",
        "  padded_seqs = []\n",
        "  seq_lens = []\n",
        "  max_sentence_len = 50\n",
        "  for sentence in sentence_batch:\n",
        "    padded_seqs.append(sentence + [pad_int] * (max_sentence_len - len(sentence)))\n",
        "    seq_lens.append(50)\n",
        "  return padded_seqs, seq_lens\n",
        "\n",
        "def  check_accuracy(logits, Y):\n",
        "  '''\n",
        "  logits是网络预测结果,Y是正确结果,我们将网络预测结果与正确结果的契合程度\n",
        "  作为网络预测准确性的判断\n",
        "  '''\n",
        "  acc = 0\n",
        "  for i in range(logits.shape[0]):\n",
        "    internal_acc = 0\n",
        "    for k in range(len(Y[i])):\n",
        "      if Y[i][k] == logits[i][k]:\n",
        "        internal_acc += 1\n",
        "    acc += (internal_acc / len(Y[i]))\n",
        "    \n",
        "  return acc / logits.shape[0]"
      ],
      "execution_count": 0,
      "outputs": []
    },
    {
      "metadata": {
        "id": "0ZGbH0hb7Syl",
        "colab_type": "code",
        "outputId": "6b24a44f-a297-4f5a-9ced-7c0669e25436",
        "colab": {
          "base_uri": "https://localhost:8080/",
          "height": 88
        }
      },
      "cell_type": "code",
      "source": [
        "import tensorflow as tf\n",
        "import os\n",
        "#LSTM节点输出向量长度\n",
        "size_layer = 128\n",
        "#每个MultiRNNCell含有的LSTM节点个数\n",
        "num_layers = 2\n",
        "#一个单词对应的向量长度\n",
        "embedded_size = 128\n",
        "learning_rate = 0.001\n",
        "batch_size = 32\n",
        "epoch = 500\n",
        "\n",
        "tf.reset_default_graph()\n",
        "sess = tf.InteractiveSession()\n",
        "model = sequence2sequence(size_layer, num_layers, embedded_size, vocabulary_size_question + 4,\n",
        "                         vocabulary_size_answer + 4, learning_rate, batch_size)\n",
        "sess.run(tf.global_variables_initializer())\n",
        "saver = tf.train.Saver(tf.global_variables(), max_to_keep = 2)\n",
        "checkpoint_dir = os.path.abspath(os.path.join('/content/gdrive/My Drive/', 'checkpoints_chatbot'))\n",
        "checkpoint_prefix = os.path.join(checkpoint_dir, \"model\")"
      ],
      "execution_count": 0,
      "outputs": [
        {
          "output_type": "stream",
          "text": [
            "/usr/local/lib/python3.6/dist-packages/tensorflow/python/client/session.py:1702: UserWarning: An interactive session is already active. This can cause out-of-memory errors in some cases. You must explicitly call `InteractiveSession.close()` to release resources held by the other session(s).\n",
            "  warnings.warn('An interactive session is already active. This can '\n"
          ],
          "name": "stderr"
        },
        {
          "output_type": "stream",
          "text": [
            "Tensor(\"logits/dense/BiasAdd:0\", shape=(32, ?, 508), dtype=float32)\n"
          ],
          "name": "stdout"
        }
      ]
    },
    {
      "metadata": {
        "id": "Py88dIbENmXS",
        "colab_type": "code",
        "colab": {}
      },
      "cell_type": "code",
      "source": [
        "\n",
        "X = str_idx(text_question, dictionary_question)\n",
        "Y = str_idx(text_answer, dictionary_answer)\n",
        "\n",
        "\n",
        "for i in range(epoch):\n",
        "  total_loss, total_accuracy = 0, 0\n",
        "  for k in range(0, (len(text_question) // batch_size) * batch_size, batch_size):\n",
        "    batch_x, seq_x = pad_sentence_batch(X[k : k + batch_size], PAD)\n",
        "    batch_y, seq_y = pad_sentence_batch(Y[k : k + batch_size], PAD)\n",
        "    \n",
        "   \n",
        "    predicted, loss, _ = sess.run([tf.argmax(model.logits, 2), model.cost,\n",
        "                                  model.optimizer], feed_dict = {\n",
        "        model.X : batch_x,\n",
        "        model.Y : batch_y,\n",
        "        model.X_seq_len : seq_x,\n",
        "        model.Y_seq_len : seq_y\n",
        "    })\n",
        "    total_loss += loss\n",
        "    total_accuracy += check_accuracy(predicted, batch_y)\n",
        "   \n",
        "  total_loss /= (len(text_question) // batch_size)\n",
        "  total_accuracy /= (len(text_answer) // batch_size)\n",
        "  print(\"epoch: %d, avg loss : %f, avg accuracy: %f\" %(i+1, total_loss, total_accuracy))\n",
        "  path = saver.save(sess, checkpoint_prefix, global_step = i + 1)"
      ],
      "execution_count": 0,
      "outputs": []
    },
    {
      "metadata": {
        "id": "pPC9eYtkkvbS",
        "colab_type": "code",
        "outputId": "32f170bd-7bd6-411f-9733-ec9b0278ced3",
        "colab": {
          "base_uri": "https://localhost:8080/",
          "height": 105
        }
      },
      "cell_type": "code",
      "source": [
        "import numpy as np\n",
        "import tensorflow as tf\n",
        "\n",
        "def predict(sentence, sess):\n",
        "    X_in = []\n",
        "    for word in sentence.split():\n",
        "        try:\n",
        "            X_in.append(dictionary_question[word])\n",
        "        except:\n",
        "            X_in.append(PAD)\n",
        "            pass\n",
        "        \n",
        "    test, seq_x = pad_sentence_batch([X_in], PAD)\n",
        "    input_batch = np.zeros([batch_size,seq_x[0]])\n",
        "    input_batch[0] =test[0] \n",
        "        \n",
        "    log = sess.run(tf.argmax(model.logits,2), \n",
        "                                      feed_dict={\n",
        "                                              model.X:input_batch,\n",
        "                                              model.X_seq_len:seq_x,\n",
        "                                              model.Y_seq_len:seq_x\n",
        "                                              }\n",
        "                                      )\n",
        "    \n",
        "    result=' '.join(rev_dictionary_answer[i] for i in log[0])\n",
        "    return result\n",
        "    \n",
        "\n",
        "with tf.Session() as sess:\n",
        "  path = '/content/gdrive/My Drive/checkpoints_chatbot/model-498'\n",
        "  saver = tf.train.import_meta_graph(path + '.meta')\n",
        "  #将训练后存储成文件的网络参数重新加载\n",
        "  saver.restore(sess, path)\n",
        "  print(predict('how are you ?', sess)) \n",
        "  print(predict('where do you live?', sess))\n",
        "  print(predict('what is your name', sess))\n"
      ],
      "execution_count": 0,
      "outputs": [
        {
          "output_type": "stream",
          "text": [
            "INFO:tensorflow:Restoring parameters from /content/gdrive/My Drive/checkpoints_chatbot/model-498\n",
            "i am fine thank you PAD PAD PAD PAD PAD PAD PAD PAD PAD PAD PAD PAD PAD PAD PAD PAD PAD PAD PAD PAD PAD PAD PAD PAD PAD PAD PAD PAD PAD PAD PAD PAD PAD PAD PAD PAD PAD PAD PAD PAD PAD PAD PAD PAD PAD\n",
            "i am PAD in miami PAD PAD PAD PAD PAD PAD PAD PAD PAD PAD PAD PAD PAD PAD PAD PAD PAD PAD PAD PAD PAD PAD PAD PAD PAD PAD PAD PAD PAD PAD PAD PAD PAD PAD PAD PAD PAD PAD PAD PAD PAD PAD PAD PAD PAD\n",
            "my name is papaya and what do you want me to to call dear sir sir or or PAD PAD PAD PAD PAD PAD PAD PAD PAD PAD PAD PAD PAD PAD PAD PAD PAD PAD PAD PAD PAD PAD PAD PAD PAD PAD PAD PAD PAD PAD PAD PAD\n"
          ],
          "name": "stdout"
        }
      ]
    },
    {
      "metadata": {
        "id": "x1-zz0NeiECL",
        "colab_type": "code",
        "colab": {}
      },
      "cell_type": "code",
      "source": [
        "!mkdir '/content/gdrive/My Drive/fashin-mnist'"
      ],
      "execution_count": 0,
      "outputs": []
    }
  ]
}